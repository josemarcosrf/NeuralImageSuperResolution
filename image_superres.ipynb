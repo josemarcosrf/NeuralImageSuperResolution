{
  "nbformat": 4,
  "nbformat_minor": 0,
  "metadata": {
    "colab": {
      "name": "image_superres.ipynb",
      "provenance": [],
      "collapsed_sections": [
        "1QtGpdSrrgAU"
      ],
      "authorship_tag": "ABX9TyMJ1oIWaci57ryRe+GBWCRY",
      "include_colab_link": true
    },
    "kernelspec": {
      "name": "python3",
      "display_name": "Python 3"
    }
  },
  "cells": [
    {
      "cell_type": "markdown",
      "metadata": {
        "id": "view-in-github",
        "colab_type": "text"
      },
      "source": [
        "<a href=\"https://colab.research.google.com/github/olaviinha/ImageSuperResolution/blob/master/image_superres.ipynb\" target=\"_parent\"><img src=\"https://colab.research.google.com/assets/colab-badge.svg\" alt=\"Open In Colab\"/></a>"
      ]
    },
    {
      "cell_type": "markdown",
      "metadata": {
        "id": "X7JkCX2wuHQb",
        "colab_type": "text"
      },
      "source": [
        "# Image Super-Resolution\n",
        "\n",
        "Colab for [superresolution_gan](https://github.com/fukumame/superresolution_gan)."
      ]
    },
    {
      "cell_type": "code",
      "metadata": {
        "id": "Tvx2wS76UC8Y",
        "colab_type": "code",
        "cellView": "form",
        "colab": {}
      },
      "source": [
        "#@title Mount Drive\n",
        "from google.colab import drive\n",
        "drive.mount('/content/drive')\n",
        "drive_root = \"/content/drive/My Drive/\"\n",
        "\n",
        "!pip -q install import-ipynb\n",
        "!curl -q -s -O https://raw.githubusercontent.com/olaviinha/inhagcutils/master/inhagcutils.ipynb\n",
        "import import_ipynb\n",
        "from inhagcutils import *"
      ],
      "execution_count": null,
      "outputs": []
    },
    {
      "cell_type": "markdown",
      "metadata": {
        "id": "pgHQ8yl2qXjD",
        "colab_type": "text"
      },
      "source": [
        "### Settings"
      ]
    },
    {
      "cell_type": "code",
      "metadata": {
        "id": "58KGRDniox7A",
        "colab_type": "code",
        "cellView": "form",
        "colab": {}
      },
      "source": [
        "#@title Path to an image file in Google Drive \n",
        "input_image = \"superres-test/goodboy.jpg\" #@param {type:\"string\"}\n",
        "input_image = drive_root+input_image\n",
        "\n",
        "#@markdown <font color=\"#999\">Output will be saved in the same directory as `superres_<filename>`</font>\n",
        "\n",
        "output_image = path_dir(input_image)+\"superres_\"+path_leaf(input_image)"
      ],
      "execution_count": null,
      "outputs": []
    },
    {
      "cell_type": "markdown",
      "metadata": {
        "id": "1QtGpdSrrgAU",
        "colab_type": "text"
      },
      "source": [
        "### Setup"
      ]
    },
    {
      "cell_type": "code",
      "metadata": {
        "id": "hx1C5bwEUDqr",
        "colab_type": "code",
        "cellView": "form",
        "colab": {}
      },
      "source": [
        "#@title Git clone & get model\n",
        "%cd /content/\n",
        "!git {git_q} clone https://github.com/fukumame/superresolution_gan.git\n",
        "%cd /content/superresolution_gan\n",
        "!wget {wget_q} https://www.dropbox.com/s/l4s5a6v4licks62/generator_model_3008000.npz"
      ],
      "execution_count": null,
      "outputs": []
    },
    {
      "cell_type": "markdown",
      "metadata": {
        "id": "rYQkdvi5qY2P",
        "colab_type": "text"
      },
      "source": [
        "### **Action**"
      ]
    },
    {
      "cell_type": "code",
      "metadata": {
        "id": "Do22F6t0Uw36",
        "colab_type": "code",
        "cellView": "form",
        "colab": {}
      },
      "source": [
        "#@title Superres\n",
        "print('Superres', input_image)\n",
        "!python superresolution.py --modelpath=generator_model_3008000.npz --imagepath=\"{input_image}\" --outputpath=\"{output_image}\"\n",
        "print('Saved to', output_image)"
      ],
      "execution_count": null,
      "outputs": []
    }
  ]
}