{
  "nbformat": 4,
  "nbformat_minor": 0,
  "metadata": {
    "colab": {
      "name": "neural-enhance.ipynb",
      "provenance": [],
      "collapsed_sections": [],
      "mount_file_id": "1Vt0O0XlY5nUNdboAKsF-qvBac7EhDzM_",
      "authorship_tag": "ABX9TyNWOum6hMD5pOrRnpy9ZJw+",
      "include_colab_link": true
    },
    "kernelspec": {
      "name": "python3",
      "display_name": "Python 3"
    },
    "accelerator": "GPU"
  },
  "cells": [
    {
      "cell_type": "markdown",
      "metadata": {
        "id": "view-in-github",
        "colab_type": "text"
      },
      "source": [
        "<a href=\"https://colab.research.google.com/github/olaviinha/NeuralImageSuperResolution/blob/master/neural_enhance.ipynb\" target=\"_parent\"><img src=\"https://colab.research.google.com/assets/colab-badge.svg\" alt=\"Open In Colab\"/></a>"
      ]
    },
    {
      "cell_type": "markdown",
      "metadata": {
        "id": "5jg-POQnpkRJ",
        "colab_type": "text"
      },
      "source": [
        "#Neural enhance\n",
        "\n",
        "Photo enhancing by [Neural Enhance](https://github.com/alexjc/neural-enhance)"
      ]
    },
    {
      "cell_type": "code",
      "metadata": {
        "id": "t1M-Ufd_jayf",
        "colab_type": "code",
        "colab": {},
        "cellView": "form"
      },
      "source": [
        "#@title Mount Drive\n",
        "#@markdown First mount drive, then input `y` when asked to uninstall scipy, as we need to downgrade it.\n",
        "from google.colab import drive\n",
        "drive.mount('/content/drive')\n",
        "drive_root = \"/content/drive/My Drive/\"\n",
        "\n",
        "!pip -q install import-ipynb\n",
        "!curl -q -s -O https://raw.githubusercontent.com/olaviinha/inhagcutils/master/inhagcutils.ipynb\n",
        "import import_ipynb\n",
        "from inhagcutils import *\n",
        "\n",
        "!pip uninstall scipy\n",
        "!pip {pip_q} install scipy==1.1.0\n",
        "!pip install colorama pillow\n",
        "!pip {pip_q} install --upgrade https://github.com/Lasagne/Lasagne/archive/master.zip\n",
        "%cd /content/\n",
        "!git clone https://github.com/alexjc/neural-enhance.git\n",
        "%cd /content/neural-enhance/\n",
        "!wget https://github.com/alexjc/neural-enhance/releases/download/v0.3/ne1x-photo-repair-0.3.pkl.bz2\n",
        "!wget https://github.com/alexjc/neural-enhance/releases/download/v0.3/ne1x-photo-deblur-0.3.pkl.bz2\n",
        "!wget https://github.com/alexjc/neural-enhance/releases/download/v0.3/ne4x-photo-default-0.3.pkl.bz2\n",
        "!wget https://github.com/alexjc/neural-enhance/releases/download/v0.3/ne2x-photo-default-0.3.pkl.bz2\n"
      ],
      "execution_count": null,
      "outputs": []
    },
    {
      "cell_type": "code",
      "metadata": {
        "id": "6pFf4DTtjlwM",
        "colab_type": "code",
        "colab": {},
        "cellView": "form"
      },
      "source": [
        "#@title Settings\n",
        "\n",
        "#@markdown <font size=\"2\" color=\"#999\">Path to input image in your Google Drive. Output will be saved in the same directory as <font size=\"4\">`<filename>_ne1x.jpg`</font></font>\n",
        "\n",
        "input_image = \"ai/enhance/test.jpg\" #@param {type:\"string\"}\n",
        "input_image = drive_root+input_image\n",
        "model = \"repair\" #@param [\"repair\", \"denoise\"]\n",
        "\n",
        "dir_out = path_dir(input_image)\n",
        "output_image = path_dir(input_image)+\"enhance_\"+path_leaf(input_image)"
      ],
      "execution_count": null,
      "outputs": []
    },
    {
      "cell_type": "code",
      "metadata": {
        "id": "31e-45fCjaEO",
        "colab_type": "code",
        "colab": {}
      },
      "source": [
        "!python enhance.py --device=cuda --type=photo --model={model} --zoom=1 \"{input_image}\""
      ],
      "execution_count": null,
      "outputs": []
    }
  ]
}